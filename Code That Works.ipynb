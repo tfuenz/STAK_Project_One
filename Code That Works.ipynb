{
 "cells": [
  {
   "cell_type": "code",
   "execution_count": null,
   "id": "e4064803",
   "metadata": {},
   "outputs": [],
   "source": [
    "import requests\n",
    "\n",
    "# Petfinder API credentials\n",
    "API_KEY = \"KONoQXEA5Gf4oVjZT592CS8Ptkxqc6aqTyPgjHa1kVeRAuyWoU\"\n",
    "API_SECRET = \"kcmUgm3tQzx7SNlqS59FoTt5NzeXajg7s7oIQLAm\"\n",
    "\n",
    "def get_auth_token():\n",
    "    \"\"\"Authenticate with the Petfinder API and return the access token.\"\"\"\n",
    "    url = \"https://api.petfinder.com/v2/oauth2/token\"\n",
    "    data = {\n",
    "        \"grant_type\": \"client_credentials\",\n",
    "        \"client_id\": API_KEY,\n",
    "        \"client_secret\": API_SECRET,\n",
    "    }\n",
    "    response = requests.post(url, data=data)\n",
    "    response.raise_for_status()  # Ensure the request was successful\n",
    "    return response.json()[\"access_token\"]\n",
    "\n",
    "def count_adoptable_dogs(city, token):\n",
    "    \"\"\"Count the total number of adoptable dogs in a specified city.\"\"\"\n",
    "    url = \"https://api.petfinder.com/v2/animals\"\n",
    "    headers = {\"Authorization\": f\"Bearer {token}\"}\n",
    "    params = {\n",
    "        \"type\": \"Dog\",\n",
    "        \"location\": city,\n",
    "        \"limit\": 100,  # Adjust as needed, up to the API's max limit\n",
    "    }\n",
    "    total_dogs = 0\n",
    "    page = 1  # Start from the first page\n",
    "\n",
    "    while True:\n",
    "        params[\"page\"] = page  # Update the page parameter for each request\n",
    "        response = requests.get(url, headers=headers, params=params)\n",
    "        response.raise_for_status()  # Ensure the request was successful\n",
    "        data = response.json()\n",
    "        total_dogs += len(data[\"animals\"])  # Add count of dogs in the current page\n",
    "\n",
    "        # Check if we've reached the last page\n",
    "        if page >= data[\"pagination\"][\"total_pages\"]:\n",
    "            break  # Exit loop if on the last page\n",
    "        page += 1  # Move to the next page\n",
    "\n",
    "    return total_dogs\n",
    "\n",
    "# Authenticate and get the total number of adoptable dogs in New York City\n",
    "token = get_auth_token()\n",
    "total_dogs_nyc = count_adoptable_dogs(\"New York, NY\", token)\n",
    "print(f\"Total number of adoptable dogs in New York City: {total_dogs_nyc}\")"
   ]
  }
 ],
 "metadata": {
  "kernelspec": {
   "display_name": "Python 3 (ipykernel)",
   "language": "python",
   "name": "python3"
  },
  "language_info": {
   "codemirror_mode": {
    "name": "ipython",
    "version": 3
   },
   "file_extension": ".py",
   "mimetype": "text/x-python",
   "name": "python",
   "nbconvert_exporter": "python",
   "pygments_lexer": "ipython3",
   "version": "3.11.5"
  }
 },
 "nbformat": 4,
 "nbformat_minor": 5
}

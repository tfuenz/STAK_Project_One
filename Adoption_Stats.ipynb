{
 "cells": [
  {
   "cell_type": "code",
   "execution_count": 2,
   "id": "fa717ebe-185a-48cd-b771-99551b93076c",
   "metadata": {},
   "outputs": [],
   "source": [
    "import warnings\n",
    "warnings.filterwarnings('ignore')"
   ]
  },
  {
   "cell_type": "code",
   "execution_count": 3,
   "id": "03a65b47-28ab-4e36-8396-aacf40c24a28",
   "metadata": {},
   "outputs": [],
   "source": [
    "import requests\n",
    "%matplotlib inline\n",
    "from pathlib import Path\n",
    "import pandas as pd\n",
    "import scipy.stats as stats\n",
    "import numpy as np\n",
    "import matplotlib.pyplot as plt\n",
    "from scipy import stats\n"
   ]
  },
  {
   "cell_type": "code",
   "execution_count": 4,
   "id": "29ca0ad9-2159-49dc-ae0d-328b51ae8e0c",
   "metadata": {},
   "outputs": [],
   "source": [
    "# Create a file path\n",
    "adoption_data_df = Path(\"C:/Users/14407/Documents/STAK_Project_One/Resources/adoption.csv\", index_label=\"Animal_ID\")\n",
    "\n",
    "\n",
    "\n"
   ]
  },
  {
   "cell_type": "code",
   "execution_count": 5,
   "id": "885f9c1a-4ecf-4e53-a86b-59119ebe8872",
   "metadata": {},
   "outputs": [
    {
     "data": {
      "text/html": [
       "<div>\n",
       "<style scoped>\n",
       "    .dataframe tbody tr th:only-of-type {\n",
       "        vertical-align: middle;\n",
       "    }\n",
       "\n",
       "    .dataframe tbody tr th {\n",
       "        vertical-align: top;\n",
       "    }\n",
       "\n",
       "    .dataframe thead th {\n",
       "        text-align: right;\n",
       "    }\n",
       "</style>\n",
       "<table border=\"1\" class=\"dataframe\">\n",
       "  <thead>\n",
       "    <tr style=\"text-align: right;\">\n",
       "      <th></th>\n",
       "      <th>type</th>\n",
       "      <th>breed</th>\n",
       "      <th>location</th>\n",
       "      <th>color</th>\n",
       "      <th>size</th>\n",
       "      <th>date_posted</th>\n",
       "      <th>name</th>\n",
       "      <th>status</th>\n",
       "      <th>gender</th>\n",
       "    </tr>\n",
       "    <tr>\n",
       "      <th>Animal_ID</th>\n",
       "      <th></th>\n",
       "      <th></th>\n",
       "      <th></th>\n",
       "      <th></th>\n",
       "      <th></th>\n",
       "      <th></th>\n",
       "      <th></th>\n",
       "      <th></th>\n",
       "      <th></th>\n",
       "    </tr>\n",
       "  </thead>\n",
       "  <tbody>\n",
       "    <tr>\n",
       "      <th>0</th>\n",
       "      <td>Cat</td>\n",
       "      <td>Domestic Short Hair</td>\n",
       "      <td>Woodmere</td>\n",
       "      <td>Orange &amp; White</td>\n",
       "      <td>Medium</td>\n",
       "      <td>2024-02-09T01:22:49+0000</td>\n",
       "      <td>CJ</td>\n",
       "      <td>adoptable</td>\n",
       "      <td>Male</td>\n",
       "    </tr>\n",
       "    <tr>\n",
       "      <th>1</th>\n",
       "      <td>Cat</td>\n",
       "      <td>Domestic Short Hair</td>\n",
       "      <td>New York</td>\n",
       "      <td>Gray &amp; White</td>\n",
       "      <td>Small</td>\n",
       "      <td>2024-02-09T01:15:51+0000</td>\n",
       "      <td>Ron and Harry</td>\n",
       "      <td>adoptable</td>\n",
       "      <td>Female</td>\n",
       "    </tr>\n",
       "    <tr>\n",
       "      <th>2</th>\n",
       "      <td>Cat</td>\n",
       "      <td>Domestic Short Hair</td>\n",
       "      <td>Trexlertown</td>\n",
       "      <td>NaN</td>\n",
       "      <td>Medium</td>\n",
       "      <td>2024-02-09T01:13:49+0000</td>\n",
       "      <td>Luna</td>\n",
       "      <td>adoptable</td>\n",
       "      <td>Female</td>\n",
       "    </tr>\n",
       "    <tr>\n",
       "      <th>3</th>\n",
       "      <td>Cat</td>\n",
       "      <td>Domestic Medium Hair</td>\n",
       "      <td>Pittstown</td>\n",
       "      <td>White</td>\n",
       "      <td>Large</td>\n",
       "      <td>2024-02-09T01:08:33+0000</td>\n",
       "      <td>Sweet pea</td>\n",
       "      <td>adoptable</td>\n",
       "      <td>Male</td>\n",
       "    </tr>\n",
       "    <tr>\n",
       "      <th>4</th>\n",
       "      <td>Cat</td>\n",
       "      <td>Domestic Short Hair</td>\n",
       "      <td>Mount Holly</td>\n",
       "      <td>NaN</td>\n",
       "      <td>Small</td>\n",
       "      <td>2024-02-09T01:06:28+0000</td>\n",
       "      <td>Robinson</td>\n",
       "      <td>adoptable</td>\n",
       "      <td>Female</td>\n",
       "    </tr>\n",
       "  </tbody>\n",
       "</table>\n",
       "</div>"
      ],
      "text/plain": [
       "          type                 breed     location           color    size  \\\n",
       "Animal_ID                                                                   \n",
       "0          Cat   Domestic Short Hair     Woodmere  Orange & White  Medium   \n",
       "1          Cat   Domestic Short Hair     New York    Gray & White   Small   \n",
       "2          Cat   Domestic Short Hair  Trexlertown             NaN  Medium   \n",
       "3          Cat  Domestic Medium Hair    Pittstown           White   Large   \n",
       "4          Cat   Domestic Short Hair  Mount Holly             NaN   Small   \n",
       "\n",
       "                        date_posted           name     status  gender  \n",
       "Animal_ID                                                              \n",
       "0          2024-02-09T01:22:49+0000             CJ  adoptable    Male  \n",
       "1          2024-02-09T01:15:51+0000  Ron and Harry  adoptable  Female  \n",
       "2          2024-02-09T01:13:49+0000           Luna  adoptable  Female  \n",
       "3          2024-02-09T01:08:33+0000     Sweet pea   adoptable    Male  \n",
       "4          2024-02-09T01:06:28+0000       Robinson  adoptable  Female  "
      ]
     },
     "execution_count": 5,
     "metadata": {},
     "output_type": "execute_result"
    }
   ],
   "source": [
    "#Read saved data\n",
    "adoption_data_df = pd.read_csv(\"C:/Users/14407/Documents/STAK_Project_One/Resources/adoption.csv\", index_col=\"Animal_ID\")\n",
    "\n",
    "#Display sample data\n",
    "adoption_data_df.head()"
   ]
  },
  {
   "cell_type": "code",
   "execution_count": 6,
   "id": "c11d1cd0-7701-4f65-836a-172d9eecba06",
   "metadata": {},
   "outputs": [
    {
     "data": {
      "text/plain": [
       "5506.444444444444"
      ]
     },
     "execution_count": 6,
     "metadata": {},
     "output_type": "execute_result"
    }
   ],
   "source": [
    "\n",
    "# Create a new dataframe featuring DOG data for specified metropolitan cities\n",
    "metro_cities = [\"New York\", \"Los Angeles\", \"Chicago\", \"Houston\", \"Phoenix\"]\n",
    "\n",
    "# Filter for dogs in specified metropolitan cities\n",
    "metro_dogs = adoption_data_df[(adoption_data_df['type'] == 'Dog') & (adoption_data_df['location'].isin(metro_cities))]\n",
    "\n",
    "#Create a count variable for specified metropolitan cities\n",
    "metro_dog_count = metro_dogs.count()     \n",
    "metro_dog_count\n",
    "\n",
    "#Find mean for specified metropolitan cities\n",
    "metro_dog_mean = metro_dog_count.mean()\n",
    "\n",
    "metro_dog_mean"
   ]
  },
  {
   "cell_type": "code",
   "execution_count": 7,
   "id": "f8716633-0994-4858-b7d2-35de5d9a5e4e",
   "metadata": {},
   "outputs": [],
   "source": [
    "# Create a new dataframe featuring DOG data for New York City in metropolitan cities\n",
    "metro_nyc = [\"New York\"]\n",
    "\n",
    "# Filter for dogs and the specified cities\n",
    "nyc_dogs = adoption_data_df[(adoption_data_df['type'] == 'Dog') & (adoption_data_df['location'].isin(metro_nyc))]\n",
    "\n",
    "#Create a count variable\n",
    "nyc_dog_count = nyc_dogs.count()"
   ]
  },
  {
   "cell_type": "code",
   "execution_count": 8,
   "id": "25578a89-a1c0-4a54-889f-9a12bb6ea6cf",
   "metadata": {},
   "outputs": [],
   "source": [
    "# Create a new dataframe featuring DOG data for LA in metropolitan cities\n",
    "metro_la = [\"Los Angeles\"]\n",
    "\n",
    "# Filter for dogs and the specified cities\n",
    "la_dogs = adoption_data_df[(adoption_data_df['type'] == 'Dog') & (adoption_data_df['location'].isin(metro_la))]\n",
    "\n",
    "#Create a count variable\n",
    "la_dog_count = la_dogs.count()"
   ]
  },
  {
   "cell_type": "code",
   "execution_count": 9,
   "id": "e3e4c984-c3cb-407f-8d5f-514e25a07114",
   "metadata": {},
   "outputs": [],
   "source": [
    "# Create a new dataframe featuring DOG data for Chicago in metropolitan cities\n",
    "metro_chicago = [\"Chicago\"]\n",
    "\n",
    "# Filter for dogs and the specified cities\n",
    "chicago_dogs = adoption_data_df[(adoption_data_df['type'] == 'Dog') & (adoption_data_df['location'].isin(metro_chicago))]\n",
    "\n",
    "#Create a count variable\n",
    "chicago_dog_count = chicago_dogs.count()"
   ]
  },
  {
   "cell_type": "code",
   "execution_count": 10,
   "id": "fbb0f9ac-47fb-4347-86c9-d295a685b982",
   "metadata": {},
   "outputs": [],
   "source": [
    "# Create a new dataframe featuring DOG data for Houston in metropolitan cities\n",
    "metro_houston = [\"Houston\"]\n",
    "\n",
    "# Filter for dogs and the specified cities\n",
    "houston_dogs = adoption_data_df[(adoption_data_df['type'] == 'Dog') & (adoption_data_df['location'].isin(metro_houston))]\n",
    "\n",
    "#Create a count variable\n",
    "houston_dog_count = houston_dogs.count()"
   ]
  },
  {
   "cell_type": "code",
   "execution_count": 11,
   "id": "4ce32f25-ed94-4a11-8bf1-45d356fb8a1a",
   "metadata": {},
   "outputs": [],
   "source": [
    "# Create a new dataframe featuring DOG data for Houston in metropolitan cities\n",
    "metro_phoenix = [\"Phoenix\"]\n",
    "\n",
    "# Filter for dogs and the specified cities\n",
    "phoenix_dogs = adoption_data_df[(adoption_data_df['type'] == 'Dog') & (adoption_data_df['location'].isin(metro_phoenix))]\n",
    "\n",
    "#Create a count variable\n",
    "phoenix_dog_count = phoenix_dogs.count()"
   ]
  },
  {
   "cell_type": "code",
   "execution_count": 12,
   "id": "d69b189f-b805-4829-8553-298f5ea898ed",
   "metadata": {},
   "outputs": [
    {
     "data": {
      "text/html": [
       "<div>\n",
       "<style scoped>\n",
       "    .dataframe tbody tr th:only-of-type {\n",
       "        vertical-align: middle;\n",
       "    }\n",
       "\n",
       "    .dataframe tbody tr th {\n",
       "        vertical-align: top;\n",
       "    }\n",
       "\n",
       "    .dataframe thead th {\n",
       "        text-align: right;\n",
       "    }\n",
       "</style>\n",
       "<table border=\"1\" class=\"dataframe\">\n",
       "  <thead>\n",
       "    <tr style=\"text-align: right;\">\n",
       "      <th></th>\n",
       "      <th>NYC</th>\n",
       "      <th>Los Angeles</th>\n",
       "      <th>Chicago</th>\n",
       "      <th>Houston</th>\n",
       "      <th>Phoenix</th>\n",
       "    </tr>\n",
       "  </thead>\n",
       "  <tbody>\n",
       "    <tr>\n",
       "      <th>type</th>\n",
       "      <td>798</td>\n",
       "      <td>1624</td>\n",
       "      <td>384</td>\n",
       "      <td>2053</td>\n",
       "      <td>1009</td>\n",
       "    </tr>\n",
       "  </tbody>\n",
       "</table>\n",
       "</div>"
      ],
      "text/plain": [
       "      NYC  Los Angeles  Chicago  Houston  Phoenix\n",
       "type  798         1624      384     2053     1009"
      ]
     },
     "execution_count": 12,
     "metadata": {},
     "output_type": "execute_result"
    }
   ],
   "source": [
    "\n",
    "# metropolitan cities data frame for summary table\n",
    "metro_dogs_total = pd.DataFrame({\"NYC\": nyc_dog_count, \n",
    "                                    \"Los Angeles\": la_dog_count,\n",
    "                                    \"Chicago\": chicago_dog_count,\n",
    "                                    \"Houston\": houston_dog_count,\n",
    "                                    \"Phoenix\" : phoenix_dog_count}, index=[\"type\"])\n",
    "\n",
    "metro_dogs_total\n"
   ]
  },
  {
   "cell_type": "code",
   "execution_count": 13,
   "id": "7039bfd5-180e-4df4-8263-3aba8cb66986",
   "metadata": {},
   "outputs": [
    {
     "data": {
      "text/plain": [
       "566.7777777777778"
      ]
     },
     "execution_count": 13,
     "metadata": {},
     "output_type": "execute_result"
    }
   ],
   "source": [
    "\n",
    "# Create a new dataframe featuring DOG data for specified suburban cities\n",
    "suburban_cities = [\"Mesa\", \"Schaumburg\", \"Pearland\", \"Yonkers\", \"Mission Viejo\"]\n",
    "\n",
    "# Filter for dogs and the specified cities\n",
    "suburban_dogs = adoption_data_df[(adoption_data_df['type'] == 'Dog') & (adoption_data_df['location'].isin(suburban_cities))]\n",
    "\n",
    "#Create a count variable\n",
    "suburban_dog_count = suburban_dogs.count()\n",
    "\n",
    "#Calculate the mean for specified suburban cities\n",
    "suburban_dog_mean = suburban_dog_count.mean()\n",
    "\n",
    "suburban_dog_mean"
   ]
  },
  {
   "cell_type": "code",
   "execution_count": 14,
   "id": "debfebc4-1aed-4404-9d36-9e4cad82f654",
   "metadata": {},
   "outputs": [],
   "source": [
    "\n",
    "# Create a new dataframe featuring DOG data for Mesa in suburban cities\n",
    "suburban_mesa = [\"Mesa\"]\n",
    "\n",
    "# Filter for dogs and the specified cities\n",
    "mesa_dogs = adoption_data_df[(adoption_data_df['type'] == 'Dog') & (adoption_data_df['location'].isin(suburban_mesa))]\n",
    "\n",
    "#Create a count variable\n",
    "mesa_dog_count = mesa_dogs.count()\n"
   ]
  },
  {
   "cell_type": "code",
   "execution_count": 15,
   "id": "f54f41b8-5aeb-41f4-9947-0ad203403813",
   "metadata": {},
   "outputs": [],
   "source": [
    "\n",
    "# Create a new dataframe featuring DOG data fo Schaumburg in suburban cities\n",
    "suburban_schaumburg = [\"Schaumburg\"]\n",
    "\n",
    "# Filter for dogs and the specified cities\n",
    "schaumburg_dogs = adoption_data_df[(adoption_data_df['type'] == 'Dog') & (adoption_data_df['location'].isin(suburban_schaumburg))]\n",
    "\n",
    "#Create a count variable\n",
    "schaumburg_dog_count = schaumburg_dogs.count()\n",
    " \n"
   ]
  },
  {
   "cell_type": "code",
   "execution_count": 16,
   "id": "d84da84a-0541-43dc-b56c-7219d9dab028",
   "metadata": {},
   "outputs": [],
   "source": [
    "\n",
    "# Create a new dataframe featuring DOG data for Pearland in suburban cities\n",
    "suburban_pearland = [\"Pearland\"]\n",
    "\n",
    "# Filter for dogs and the specified cities\n",
    "pearland_dogs = adoption_data_df[(adoption_data_df['type'] == 'Dog') & (adoption_data_df['location'].isin(suburban_pearland))]\n",
    "\n",
    "#Create a count variable\n",
    "pearland_dog_count = pearland_dogs.count()\n"
   ]
  },
  {
   "cell_type": "code",
   "execution_count": 17,
   "id": "68b5be20-558a-49cb-beb5-37478ec968e5",
   "metadata": {},
   "outputs": [],
   "source": [
    "\n",
    "# Create a new dataframe featuring DOG data for Yonkers in suburban cities\n",
    "suburban_yonkers = [\"Yonkers\"]\n",
    "\n",
    "# Filter for dogs and the specified cities\n",
    "yonkers_dogs = adoption_data_df[(adoption_data_df['type'] == 'Dog') & (adoption_data_df['location'].isin(suburban_yonkers))]\n",
    "\n",
    "#Create a count variable\n",
    "yonkers_dog_count = yonkers_dogs.count()"
   ]
  },
  {
   "cell_type": "code",
   "execution_count": 18,
   "id": "8fd76d4b-ed50-45ca-87ea-2f5bc9d5a717",
   "metadata": {},
   "outputs": [],
   "source": [
    "\n",
    "# Create a new dataframe featuring DOG data for Mission Viejo in suburban cities\n",
    "suburban_mission_viejo = [\"Mission Viejo\"]\n",
    "\n",
    "# Filter for dogs and the specified cities\n",
    "mission_viejo_dogs = adoption_data_df[(adoption_data_df['type'] == 'Dog') & (adoption_data_df['location'].isin(suburban_mission_viejo))]\n",
    "\n",
    "#Create a count variable\n",
    "mission_viejo_dog_count = mission_viejo_dogs.count()\n"
   ]
  },
  {
   "cell_type": "code",
   "execution_count": 19,
   "id": "5d386989-7ea7-4637-a95d-e8f641d6289d",
   "metadata": {},
   "outputs": [
    {
     "data": {
      "text/html": [
       "<div>\n",
       "<style scoped>\n",
       "    .dataframe tbody tr th:only-of-type {\n",
       "        vertical-align: middle;\n",
       "    }\n",
       "\n",
       "    .dataframe tbody tr th {\n",
       "        vertical-align: top;\n",
       "    }\n",
       "\n",
       "    .dataframe thead th {\n",
       "        text-align: right;\n",
       "    }\n",
       "</style>\n",
       "<table border=\"1\" class=\"dataframe\">\n",
       "  <thead>\n",
       "    <tr style=\"text-align: right;\">\n",
       "      <th></th>\n",
       "      <th>Mesa</th>\n",
       "      <th>Schaumburg</th>\n",
       "      <th>Pearland</th>\n",
       "      <th>Yonkers</th>\n",
       "      <th>Mission Viejo</th>\n",
       "    </tr>\n",
       "  </thead>\n",
       "  <tbody>\n",
       "    <tr>\n",
       "      <th>type</th>\n",
       "      <td>404</td>\n",
       "      <td>24</td>\n",
       "      <td>95</td>\n",
       "      <td>45</td>\n",
       "      <td>52</td>\n",
       "    </tr>\n",
       "  </tbody>\n",
       "</table>\n",
       "</div>"
      ],
      "text/plain": [
       "      Mesa  Schaumburg  Pearland  Yonkers  Mission Viejo\n",
       "type   404          24        95       45             52"
      ]
     },
     "execution_count": 19,
     "metadata": {},
     "output_type": "execute_result"
    }
   ],
   "source": [
    "\n",
    "# suburban cities data frame for summary table\n",
    "suburban_dogs_total = pd.DataFrame({\"Mesa\": mesa_dog_count, \n",
    "                                    \"Schaumburg\": schaumburg_dog_count,\n",
    "                                    \"Pearland\": pearland_dog_count,\n",
    "                                    \"Yonkers\": yonkers_dog_count,\n",
    "                                    \"Mission Viejo\" : mission_viejo_dog_count}, index=[\"type\"])\n",
    "\n",
    "suburban_dogs_total"
   ]
  },
  {
   "cell_type": "code",
   "execution_count": 20,
   "id": "a9abb00d-944d-4afe-a7b9-e32b0715938e",
   "metadata": {},
   "outputs": [
    {
     "data": {
      "text/html": [
       "<div>\n",
       "<style scoped>\n",
       "    .dataframe tbody tr th:only-of-type {\n",
       "        vertical-align: middle;\n",
       "    }\n",
       "\n",
       "    .dataframe tbody tr th {\n",
       "        vertical-align: top;\n",
       "    }\n",
       "\n",
       "    .dataframe thead th {\n",
       "        text-align: right;\n",
       "    }\n",
       "</style>\n",
       "<table border=\"1\" class=\"dataframe\">\n",
       "  <thead>\n",
       "    <tr style=\"text-align: right;\">\n",
       "      <th></th>\n",
       "      <th>type</th>\n",
       "    </tr>\n",
       "  </thead>\n",
       "  <tbody>\n",
       "    <tr>\n",
       "      <th>Metropolitan Cities</th>\n",
       "      <td>5868</td>\n",
       "    </tr>\n",
       "    <tr>\n",
       "      <th>Suburban Cities</th>\n",
       "      <td>620</td>\n",
       "    </tr>\n",
       "  </tbody>\n",
       "</table>\n",
       "</div>"
      ],
      "text/plain": [
       "                     type\n",
       "Metropolitan Cities  5868\n",
       "Suburban Cities       620"
      ]
     },
     "execution_count": 20,
     "metadata": {},
     "output_type": "execute_result"
    }
   ],
   "source": [
    "\n",
    "# summary table\n",
    "suburban_metro_df = pd.DataFrame({\"Metropolitan Cities\": metro_dog_count, \n",
    "                                    \"Suburban Cities\": suburban_dog_count},\n",
    "                                    index=[\"type\"]).T\n",
    "\n",
    "suburban_metro_sum = suburban_metro_df.sum()\n",
    "\n",
    "suburban_metro_df"
   ]
  },
  {
   "cell_type": "code",
   "execution_count": 21,
   "id": "fb2c1a26-1848-48cf-8b52-bbc62a0e903d",
   "metadata": {},
   "outputs": [
    {
     "data": {
      "image/png": "[encoded data removed]",
      "text/plain": [
       "<Figure size 800x800 with 1 Axes>"
      ]
     },
     "metadata": {},
     "output_type": "display_data"
    }
   ],
   "source": [
    "# Plot pie chart \n",
    "colors = ['#9b30ff', '#d8bfd8']  # Shades of purple\n",
    "\n",
    "plt.figure(figsize=(8, 8))\n",
    "plt.pie(suburban_metro_df[\"type\"], autopct='%1.1f%%', startangle=190, colors = colors)\n",
    "plt.title('Dogs Up For Adoption', fontsize = 15)\n",
    "plt.xlabel(\"Metropolitan Cities\")\n",
    "plt.ylabel(\"Surburan Cities\", rotation = 0)\n",
    " \n",
    "plt.savefig(\"C:/Users/14407/Documents/STAK_Project_One/Resources/Pie_Chart_Dogs_by_City_Tp.png\")\n",
    "plt.show()\n",
    "\n"
   ]
  },
  {
   "cell_type": "code",
   "execution_count": 22,
   "id": "a5eb73ee-9010-4c00-ab2b-11ff538612b2",
   "metadata": {},
   "outputs": [
    {
     "name": "stdout",
     "output_type": "stream",
     "text": [
      "T-statistic: 3.433929953509399\n",
      "P-value: 0.008903103320107915\n"
     ]
    }
   ],
   "source": [
    "# Create two arrays of data\n",
    "metro_pop = [798, 1624, 384, 2053, 1009]\n",
    "suburban_pop = [404, 24, 95, 45, 52]\n",
    "\n",
    "# Perform the t-test\n",
    "t_statistic, p_value = stats.ttest_ind(metro_pop, suburban_pop)\n",
    "\n",
    "\n",
    "# Print the results\n",
    "print(\"T-statistic:\", t_statistic)\n",
    "print(\"P-value:\", p_value)"
   ]
  },
  {
   "cell_type": "code",
   "execution_count": 23,
   "id": "aede52be-97ba-48f5-bf6f-9fd7cf8a9bcb",
   "metadata": {},
   "outputs": [
    {
     "name": "stdout",
     "output_type": "stream",
     "text": [
      "T-Statistic: 3.4339\n",
      "P-Value: 0.0089\n",
      "Reject the null hypothesis: There is a significant difference in the two population means.\n"
     ]
    }
   ],
   "source": [
    "# Perform independent samples t-test\n",
    "t_statistic, p_value = stats.ttest_ind(metro_pop, suburban_pop)\n",
    "\n",
    "# Output:\n",
    "print(f'T-Statistic: {t_statistic:.4f}')\n",
    "print(f'P-Value: {p_value:.4f}')\n",
    "\n",
    "# Interpret the results:\n",
    "alpha = 0.05  # Significance of level\n",
    "if p_value < alpha:\n",
    "    print(\"Reject the null hypothesis: There is a significant difference in the two population means.\")\n",
    "else:\n",
    "    print(\"Fail to reject the null hypothesis: No significant difference in two population means.\")"
   ]
  },
  {
   "cell_type": "code",
   "execution_count": null,
   "id": "526715ee-2f35-466d-9af5-3fe6f51be0b7",
   "metadata": {},
   "outputs": [],
   "source": []
  }
 ],
 "metadata": {
  "kernelspec": {
   "display_name": "Python 3 (ipykernel)",
   "language": "python",
   "name": "python3"
  },
  "language_info": {
   "codemirror_mode": {
    "name": "ipython",
    "version": 3
   },
   "file_extension": ".py",
   "mimetype": "text/x-python",
   "name": "python",
   "nbconvert_exporter": "python",
   "pygments_lexer": "ipython3",
   "version": "3.11.5"
  }
 },
 "nbformat": 4,
 "nbformat_minor": 5
}

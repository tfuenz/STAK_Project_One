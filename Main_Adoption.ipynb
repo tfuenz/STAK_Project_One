{
 "cells": [
  {
   "cell_type": "code",
   "execution_count": 2,
   "id": "f5cfb0f5-a4c6-4390-b1e2-c28131e1763c",
   "metadata": {},
   "outputs": [
    {
     "ename": "ModuleNotFoundError",
     "evalue": "No module named 'API_Keys'",
     "output_type": "error",
     "traceback": [
      "\u001b[1;31m---------------------------------------------------------------------------\u001b[0m",
      "\u001b[1;31mModuleNotFoundError\u001b[0m                       Traceback (most recent call last)",
      "Cell \u001b[1;32mIn[2], line 17\u001b[0m\n\u001b[0;32m     14\u001b[0m warnings\u001b[38;5;241m.\u001b[39mfilterwarnings(\u001b[38;5;124m'\u001b[39m\u001b[38;5;124mignore\u001b[39m\u001b[38;5;124m'\u001b[39m)\n\u001b[0;32m     16\u001b[0m \u001b[38;5;66;03m# Import the API keys\u001b[39;00m\n\u001b[1;32m---> 17\u001b[0m \u001b[38;5;28;01mfrom\u001b[39;00m \u001b[38;5;21;01mAPI_Keys\u001b[39;00m \u001b[38;5;28;01mimport\u001b[39;00m API_KEY\n\u001b[0;32m     18\u001b[0m \u001b[38;5;28;01mfrom\u001b[39;00m \u001b[38;5;21;01mAPI_Keys\u001b[39;00m \u001b[38;5;28;01mimport\u001b[39;00m API_SECRET\n\u001b[0;32m     19\u001b[0m \u001b[38;5;28;01mfrom\u001b[39;00m \u001b[38;5;21;01mAPI_Keys\u001b[39;00m \u001b[38;5;28;01mimport\u001b[39;00m geoapify_key\n",
      "\u001b[1;31mModuleNotFoundError\u001b[0m: No module named 'API_Keys'"
     ]
    }
   ],
   "source": [
    "# Denpendencies\n",
    "\n",
    "import requests\n",
    "%matplotlib inline\n",
    "from pathlib import Path\n",
    "import pandas as pd\n",
    "import scipy.stats as stats\n",
    "import numpy as np\n",
    "import matplotlib.pyplot as plt\n",
    "from scipy import stats\n",
    "import hvplot.pandas\n",
    "\n",
    "import warnings\n",
    "warnings.filterwarnings('ignore')\n",
    "\n",
    "# Import the API keys\n",
    "from API_Keys import API_KEY\n",
    "from API_Keys import API_SECRET\n",
    "from API_Keys import geoapify_key\n"
   ]
  },
  {
   "cell_type": "code",
   "execution_count": null,
   "id": "6328db8b-582e-48af-bb12-f4abdc4fc992",
   "metadata": {},
   "outputs": [],
   "source": [
    "# Pull in Petfinder API credentials\n",
    "\n",
    "def get_auth_token():\n",
    "    \"\"\"Authenticate with the Petfinder API and return the access token.\"\"\"\n",
    "    url = \"https://api.petfinder.com/v2/oauth2/token\"\n",
    "    data = {\n",
    "        \"grant_type\": \"client_credentials\",\n",
    "        \"client_id\": API_KEY,\n",
    "        \"client_secret\": API_SECRET,\n",
    "    }\n",
    "    response = requests.post(url, data=data)\n",
    "    response.raise_for_status()  # Ensure the request was successful\n",
    "    return response.json()[\"access_token\"]\n",
    "\n",
    "def fetch_adoptable_pets(cities, token):\n",
    "    \"\"\"Fetch adoptable pets (cats and dogs) information for specified cities.\"\"\"\n",
    "    url = \"https://api.petfinder.com/v2/animals\"\n",
    "    headers = {\"Authorization\": f\"Bearer {token}\"}\n",
    "    pets_data = []\n",
    "\n",
    "    for city in cities:\n",
    "        for animal_type in ['Cat', 'Dog']:\n",
    "            params = {\n",
    "                \"type\": animal_type,\n",
    "                \"location\": city,\n",
    "                \"limit\": 100,\n",
    "            }\n",
    "            page = 1  # Start from the first page\n",
    "\n",
    "            while True:\n",
    "                params[\"page\"] = page\n",
    "                response = requests.get(url, headers=headers, params=params)\n",
    "                response.raise_for_status()\n",
    "                data = response.json()\n",
    "\n",
    "                for animal in data[\"animals\"]:\n",
    "                    pets_data.append({\n",
    "                        \"type\": animal[\"type\"],\n",
    "                        \"breed\": animal[\"breeds\"][\"primary\"],\n",
    "                        \"location\": animal[\"contact\"][\"address\"][\"city\"],\n",
    "                        \"color\": animal[\"colors\"][\"primary\"] if animal[\"colors\"][\"primary\"] else \"N/A\",\n",
    "                        \"size\": animal[\"size\"],\n",
    "                        \"date_posted\": animal[\"published_at\"],\n",
    "                        \"name\": animal[\"name\"],\n",
    "                        \"status\": animal[\"status\"],\n",
    "                        \"gender\": animal[\"gender\"]\n",
    "                    })\n",
    "\n",
    "                if page >= data[\"pagination\"][\"total_pages\"]:\n",
    "                    break\n",
    "                page += 1\n",
    "\n",
    "    return pd.DataFrame(pets_data)\n",
    "\n",
    "# Cities to fetch data for\n",
    "cities = [\"New York City, NY\", \"Los Angeles, CA\", \"Chicago, IL\", \"Houston, TX\", \"Phoenix, AZ\"]\n",
    "\n",
    "# Authenticate\n",
    "token = get_auth_token()\n",
    "\n",
    "# Fetch pets data\n",
    "pets_df = fetch_adoptable_pets(cities, token)\n",
    "\n",
    "# Display the DataFrame\n",
    "print(pets_df.head())"
   ]
  },
  {
   "cell_type": "code",
   "execution_count": null,
   "id": "0c85e32f-4ab6-4a4e-b49b-4fdd9b382d2f",
   "metadata": {},
   "outputs": [],
   "source": [
    "# Create a file path\n",
    "adoption_data_df = Path(\"C:/Users/14407/Documents/STAK_Project_One/Resources/adoption.csv\", index_label=\"Animal_ID\")\n"
   ]
  },
  {
   "cell_type": "code",
   "execution_count": null,
   "id": "2cab34f6-fb08-411a-bf28-279cdc404456",
   "metadata": {},
   "outputs": [],
   "source": [
    "#Read saved data\n",
    "adoption_data_df = pd.read_csv(\"C:/Users/14407/Documents/STAK_Project_One/Resources/adoption.csv\", index_col=\"Animal_ID\")\n",
    "\n",
    "#Display sample data\n",
    "adoption_data_df.head()"
   ]
  }
 ],
 "metadata": {
  "kernelspec": {
   "display_name": "Python 3 (ipykernel)",
   "language": "python",
   "name": "python3"
  },
  "language_info": {
   "codemirror_mode": {
    "name": "ipython",
    "version": 3
   },
   "file_extension": ".py",
   "mimetype": "text/x-python",
   "name": "python",
   "nbconvert_exporter": "python",
   "pygments_lexer": "ipython3",
   "version": "3.11.5"
  }
 },
 "nbformat": 4,
 "nbformat_minor": 5
}

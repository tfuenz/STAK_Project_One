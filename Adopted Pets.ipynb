{
 "cells": [
  {
   "cell_type": "code",
   "execution_count": 2,
   "id": "5933f029",
   "metadata": {},
   "outputs": [
    {
     "name": "stdout",
     "output_type": "stream",
     "text": [
      "Empty DataFrame\n",
      "Columns: []\n",
      "Index: []\n"
     ]
    }
   ],
   "source": [
    "import requests\n",
    "import pandas as pd\n",
    "\n",
    "# Petfinder API credentials\n",
    "API_KEY = \"zHREaHuUnVsqokhiKtJEjoyFem5jjmP6ehAmiXaf7H8M2iqvYg\"\n",
    "API_SECRET = \"JOg0KOJ5hTq7pEHTFAKlQHYIoElAL9H6jOJuNrGb\"\n",
    "\n",
    "def get_auth_token():\n",
    "    \"\"\"Authenticate with the Petfinder API and return the access token.\"\"\"\n",
    "    url = \"https://api.petfinder.com/v2/oauth2/token\"\n",
    "    data = {\n",
    "        \"grant_type\": \"client_credentials\",\n",
    "        \"client_id\": API_KEY,\n",
    "        \"client_secret\": API_SECRET,\n",
    "    }\n",
    "    response = requests.post(url, data=data)\n",
    "    response.raise_for_status()\n",
    "    return response.json()[\"access_token\"]\n",
    "\n",
    "def fetch_adoptable_pets(cities, token):\n",
    "    \"\"\"Fetch pets information for specified cities, filtered by a specific status post-fetch.\"\"\"\n",
    "    url = \"https://api.petfinder.com/v2/animals\"\n",
    "    headers = {\"Authorization\": f\"Bearer {token}\"}\n",
    "    pets_data = []\n",
    "\n",
    "    for city in cities:\n",
    "        for animal_type in ['Cat', 'Dog']:\n",
    "            params = {\n",
    "                \"type\": animal_type,\n",
    "                \"location\": city,\n",
    "                \"limit\": 100,\n",
    "            }\n",
    "            page = 1\n",
    "\n",
    "            while True:\n",
    "                params[\"page\"] = page\n",
    "                response = requests.get(url, headers=headers, params=params)\n",
    "                response.raise_for_status()\n",
    "                data = response.json()\n",
    "\n",
    "                for animal in data[\"animals\"]:\n",
    "                    if animal[\"status\"] == \"adopted\":\n",
    "                        pets_data.append({\n",
    "                            \"type\": animal[\"type\"],\n",
    "                            \"breed\": animal[\"breeds\"][\"primary\"],\n",
    "                            \"location\": animal[\"contact\"][\"address\"][\"city\"],\n",
    "                            \"color\": animal[\"colors\"][\"primary\"] if animal[\"colors\"][\"primary\"] else \"N/A\",\n",
    "                            \"size\": animal[\"size\"],\n",
    "                            \"date_posted\": animal[\"published_at\"],\n",
    "                            \"name\": animal[\"name\"],\n",
    "                            \"status\": animal[\"status\"],\n",
    "                            \"gender\": animal[\"gender\"]\n",
    "                        })\n",
    "\n",
    "                if page >= data[\"pagination\"][\"total_pages\"]:\n",
    "                    break\n",
    "                page += 1\n",
    "\n",
    "    return pd.DataFrame(pets_data)\n",
    "\n",
    "# Cities to get data for\n",
    "cities = [\"New York City, NY\", \"Los Angeles, CA\", \"Chicago, IL\", \"Houston, TX\", \"Phoenix, AZ\"]\n",
    "\n",
    "token = get_auth_token()\n",
    "\n",
    "# Fetch pets data\n",
    "pets_df = fetch_adoptable_pets(cities, token)\n",
    "\n",
    "# Display the DataFrame\n",
    "print(pets_df.head())"
   ]
  },
  {
   "cell_type": "code",
   "execution_count": null,
   "id": "14ea7be4",
   "metadata": {},
   "outputs": [],
   "source": []
  }
 ],
 "metadata": {
  "kernelspec": {
   "display_name": "Python 3 (ipykernel)",
   "language": "python",
   "name": "python3"
  },
  "language_info": {
   "codemirror_mode": {
    "name": "ipython",
    "version": 3
   },
   "file_extension": ".py",
   "mimetype": "text/x-python",
   "name": "python",
   "nbconvert_exporter": "python",
   "pygments_lexer": "ipython3",
   "version": "3.11.5"
  }
 },
 "nbformat": 4,
 "nbformat_minor": 5
}
